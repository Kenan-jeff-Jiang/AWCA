{
 "cells": [
  {
   "cell_type": "markdown",
   "metadata": {
    "colab_type": "text",
    "id": "MI3XOKoea9iZ"
   },
   "source": [
    "# Tesseract and OCR doc\n",
    "\n",
    "This notebook was created by Alan Cha for the Ancient World Citation Analysis project in Spring 2019. \n",
    "\n",
    "The work was created with Anaconda Environment manager\n",
    "\n",
    "**Python version:** 3.7.3 <br> "
   ]
  },
  {
   "cell_type": "markdown",
   "metadata": {},
   "source": [
    "1. You may want to familiarize yourself with the jupyter magic commands, specifically with the exclamation marks, which allows you to access your terminal. These commands are tested on a mac. Some examples:\n",
    "\n",
    "```\n",
    "# shows the content of your directory \n",
    "!ls\n",
    "\n",
    "# shows the content of sub-directories\n",
    "!ls subdirectory/example/deeper\n",
    "```"
   ]
  },
  {
   "cell_type": "markdown",
   "metadata": {},
   "source": [
    "# 1) Installation\n",
    "Using jupyter magic commands, we can install the package locally. We can also use the terminal too. <br>\n",
    "To install for the first time, uncomment the line two below and run it. For future uses, keep it as a comment."
   ]
  },
  {
   "cell_type": "markdown",
   "metadata": {},
   "source": [
    "\n",
    "**Install Tesseract**\n",
    "```\n",
    "pip3 install tesseract \n",
    "```"
   ]
  },
  {
   "cell_type": "code",
   "execution_count": null,
   "metadata": {},
   "outputs": [],
   "source": [
    "# !pip3 install tesseract"
   ]
  },
  {
   "cell_type": "markdown",
   "metadata": {},
   "source": [
    "# 2) File Organization\n",
    "Since we are working with files external to this notebook, we have to manage our files and folders carefully. Its always good practice to keep things organized.\n",
    "\n",
    "**Suppose you have a book called _YoffeeandCowgill-TheCollapseofAncientStatesandCivilizations_** as a pdf <and want to turn it into a text file for use with tesseract"
   ]
  },
  {
   "cell_type": "markdown",
   "metadata": {},
   "source": [
    "Our example is with a folder structure like the image below.<br> \n",
    "\n",
    "The **Tesseract.ipynb** is the notebook created currently. <br> We have our file of interest in a folder called **pdfs**.<br>\n",
    "We also have .tiffs in the **tiffs** folder. <br>Eventually output .txt file in the **txt** folder<br>\n",
    "\n",
    "<img src=\"pics/tesseract_directory.png\">\n",
    "\n",
    "The rest of the instructions and code depends on this structure by the use of \"paths\". "
   ]
  },
  {
   "cell_type": "markdown",
   "metadata": {},
   "source": [
    "# 3) Using Tesseract\n",
    "**We will OCR one file from the pdfs and place it in the txt folder**\n",
    "\n",
    "1. Prepare your pdf as a .tiff file (for Macs, Preview, export as .tiff) \n",
    "2. Run the tesseract program with magic commands:\n",
    "```\n",
    "tesseract tiffs/file.tiff txt/filename \n",
    "```"
   ]
  },
  {
   "cell_type": "markdown",
   "metadata": {},
   "source": [
    "Notice that there are three seperate commands. <br>\n",
    "1. **tesseract** invokes the program\n",
    "1. **tiffs/file.tiff** tells tesseract where to look for the file to ocr. Its in the folder **tiffs** and the filename is **file.tiff** (\"file is just a generic name for whatever file you have)\n",
    "1. **txt/filename** is where we specifiy where to output our .txt file. We are saying, put it in the folder **txt** and lets name it _filename_\n",
    "\n",
    "Uncomment and run the code below to run."
   ]
  },
  {
   "cell_type": "code",
   "execution_count": 1,
   "metadata": {},
   "outputs": [],
   "source": [
    "# !tesseract tiffs/YoffeeandCowgill-TheCollapseofAncientStatesandCivilizations.tiff txt/civilizatoins"
   ]
  },
  {
   "cell_type": "markdown",
   "metadata": {},
   "source": [
    "**Done!**, you should see the txt file in your folder. Try to access it with the magic commands! "
   ]
  },
  {
   "cell_type": "code",
   "execution_count": null,
   "metadata": {},
   "outputs": [],
   "source": []
  },
  {
   "cell_type": "markdown",
   "metadata": {},
   "source": [
    "# 4) Miscellanous Instructions"
   ]
  },
  {
   "cell_type": "markdown",
   "metadata": {},
   "source": [
    "### a) If you would like a different language\n",
    "run tesseract with the -l tag.\n",
    "```\n",
    "tesseract tiffs/file.pdf txt/filename -l deu\n",
    "```\n",
    "The -l tells tesseract that our file is in german. Tesseract uses 3-character ISO 639-2 language codes."
   ]
  },
  {
   "cell_type": "markdown",
   "metadata": {},
   "source": [
    "### b) Multiple langauges\n",
    "```\n",
    "tesseract tiffs/file.pdf txt/filename -l deu+eng\n",
    "```\n",
    "If something has two languages, add the languages like the example"
   ]
  },
  {
   "cell_type": "code",
   "execution_count": 3,
   "metadata": {},
   "outputs": [
    {
     "name": "stdout",
     "output_type": "stream",
     "text": [
      "1\r\n",
      "2\r\n",
      "3\r\n",
      "4\r\n"
     ]
    }
   ],
   "source": [
    "!for i in 1 2 3 4; do echo $i; done "
   ]
  },
  {
   "cell_type": "code",
   "execution_count": 6,
   "metadata": {},
   "outputs": [
    {
     "name": "stdout",
     "output_type": "stream",
     "text": [
      "Tesseract-Copy1.ipynb  \u001b[34mpics\u001b[m\u001b[m/                  \u001b[34mtiffs\u001b[m\u001b[m/\r\n",
      "Tesseract.ipynb        pngtest.txt            \u001b[34mtxt\u001b[m\u001b[m/\r\n",
      "\u001b[34mpdfs\u001b[m\u001b[m/                  \u001b[34mstuf\u001b[m\u001b[m/\r\n"
     ]
    }
   ],
   "source": [
    "ls"
   ]
  },
  {
   "cell_type": "code",
   "execution_count": 10,
   "metadata": {},
   "outputs": [
    {
     "name": "stdout",
     "output_type": "stream",
     "text": [
      "tiffs/Ylvisaker_1911_BabylonischenundAssyrischenGrammatik.tiff\r\n",
      "tiffs/YoffeeandCowgill-TheCollapseofAncientStatesandCivilizations.tiff\r\n",
      "tiffs/YoffeeandCowgill-TheCollapseofAncientStatesandCivilizations300.tiff\r\n"
     ]
    }
   ],
   "source": [
    "!for i in tiffs/*.tiff; do echo $i; done"
   ]
  },
  {
   "cell_type": "code",
   "execution_count": 12,
   "metadata": {},
   "outputs": [
    {
     "name": "stdout",
     "output_type": "stream",
     "text": [
      "Tesseract Open Source OCR Engine v4.0.0 with Leptonica\n",
      "Page 1\n",
      "Page 2\n",
      "Page 3\n",
      "Detected 42 diacritics\n",
      "Page 4\n",
      "Detected 43 diacritics\n",
      "Page 5\n",
      "Page 6\n",
      "Page 7\n",
      "^C\n"
     ]
    }
   ],
   "source": [
    "!for i in tiffs/*.tiff; do tesseract $i out; done"
   ]
  },
  {
   "cell_type": "code",
   "execution_count": null,
   "metadata": {},
   "outputs": [],
   "source": []
  }
 ],
 "metadata": {
  "colab": {
   "collapsed_sections": [],
   "name": "Tesseract.ipynb",
   "provenance": [],
   "version": "0.3.2"
  },
  "kernelspec": {
   "display_name": "Python 3",
   "language": "python",
   "name": "python3"
  },
  "language_info": {
   "codemirror_mode": {
    "name": "ipython",
    "version": 3
   },
   "file_extension": ".py",
   "mimetype": "text/x-python",
   "name": "python",
   "nbconvert_exporter": "python",
   "pygments_lexer": "ipython3",
   "version": "3.7.3"
  }
 },
 "nbformat": 4,
 "nbformat_minor": 1
}
