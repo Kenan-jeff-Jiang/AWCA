{
  "nbformat": 4,
  "nbformat_minor": 0,
  "metadata": {
    "colab": {
      "name": "Main Word2Vec.ipynb",
      "provenance": []
    },
    "kernelspec": {
      "name": "python3",
      "display_name": "Python 3"
    },
    "accelerator": "GPU"
  },
  "cells": [
    {
      "cell_type": "code",
      "metadata": {
        "id": "A1j3jUJL86UA",
        "colab_type": "code",
        "outputId": "1a845d5f-1c79-45ab-9dda-6d1fed6f855e",
        "colab": {
          "base_uri": "https://localhost:8080/",
          "height": 34
        }
      },
      "source": [
        "# Building a large word2vec model with Gensim, for later use in a LSTM, CRF model\n",
        "# Also might try to use it in other types of models like an attention model\n",
        "from gensim.models import Word2Vec\n",
        "from gensim.utils import simple_tokenize\n",
        "from google.colab import drive\n",
        "import os\n",
        "import random\n",
        "drive.mount('/content/drive', force_remount=True)"
      ],
      "execution_count": 0,
      "outputs": [
        {
          "output_type": "stream",
          "text": [
            "Mounted at /content/drive\n"
          ],
          "name": "stdout"
        }
      ]
    },
    {
      "cell_type": "code",
      "metadata": {
        "id": "laynDDC--V5x",
        "colab_type": "code",
        "outputId": "0671f0d3-50e4-468e-f469-57cf8df89876",
        "colab": {
          "base_uri": "https://localhost:8080/",
          "height": 34
        }
      },
      "source": [
        "awca = os.listdir('/content/drive/My Drive/Berkeley DH/AWCA/TXTs/Secondary Sources')\n",
        "txts = []\n",
        "for file in awca:\n",
        "  if file.endswith('.txt'):\n",
        "    txts.append(open('/content/drive/My Drive/Berkeley DH/AWCA/TXTs/Secondary Sources/' + file, 'r').read())\n",
        "      \n",
        "print(len(txts))"
      ],
      "execution_count": 0,
      "outputs": [
        {
          "output_type": "stream",
          "text": [
            "1346\n"
          ],
          "name": "stdout"
        }
      ]
    },
    {
      "cell_type": "code",
      "metadata": {
        "id": "NBAUuw7rERtf",
        "colab_type": "code",
        "colab": {}
      },
      "source": [
        "from gensim.utils import simple_preprocess\n",
        "\n",
        "def doc_to_words(sentences):\n",
        "    for sentence in sentences:\n",
        "        yield(simple_preprocess(str(sentence), deacc=True, min_len=1))"
      ],
      "execution_count": 0,
      "outputs": []
    },
    {
      "cell_type": "code",
      "metadata": {
        "id": "-k31FuHNHjJu",
        "colab_type": "code",
        "colab": {}
      },
      "source": [
        "words = list(doc_to_words(txts))"
      ],
      "execution_count": 0,
      "outputs": []
    },
    {
      "cell_type": "code",
      "metadata": {
        "id": "CyvfHkCSMnB8",
        "colab_type": "code",
        "colab": {}
      },
      "source": [
        "w2v = Word2Vec(words, min_count=1)"
      ],
      "execution_count": 0,
      "outputs": []
    },
    {
      "cell_type": "code",
      "metadata": {
        "id": "w3PV0LqM1ydQ",
        "colab_type": "code",
        "outputId": "415fde6c-fe4f-478d-e629-67b7a8de25a6",
        "colab": {
          "base_uri": "https://localhost:8080/",
          "height": 34
        }
      },
      "source": [
        "len(w2v.wv.vocab)"
      ],
      "execution_count": 0,
      "outputs": [
        {
          "output_type": "execute_result",
          "data": {
            "text/plain": [
              "884426"
            ]
          },
          "metadata": {
            "tags": []
          },
          "execution_count": 10
        }
      ]
    },
    {
      "cell_type": "code",
      "metadata": {
        "id": "dPrW5w5318gc",
        "colab_type": "code",
        "outputId": "551294c9-9515-4014-ccdd-d5bbeedb7e09",
        "colab": {
          "base_uri": "https://localhost:8080/",
          "height": 255
        }
      },
      "source": [
        "w2v.most_similar('a')"
      ],
      "execution_count": 0,
      "outputs": [
        {
          "output_type": "stream",
          "text": [
            "/usr/local/lib/python3.6/dist-packages/ipykernel_launcher.py:1: DeprecationWarning: Call to deprecated `most_similar` (Method will be removed in 4.0.0, use self.wv.most_similar() instead).\n",
            "  \"\"\"Entry point for launching an IPython kernel.\n",
            "/usr/local/lib/python3.6/dist-packages/gensim/matutils.py:737: FutureWarning: Conversion of the second argument of issubdtype from `int` to `np.signedinteger` is deprecated. In future, it will be treated as `np.int64 == np.dtype(int).type`.\n",
            "  if np.issubdtype(vec.dtype, np.int):\n"
          ],
          "name": "stderr"
        },
        {
          "output_type": "execute_result",
          "data": {
            "text/plain": [
              "[('i', 0.7394552230834961),\n",
              " ('f', 0.6378604769706726),\n",
              " ('id', 0.6358108520507812),\n",
              " ('u', 0.6338558197021484),\n",
              " ('b', 0.6174332499504089),\n",
              " ('of', 0.6114984750747681),\n",
              " ('s', 0.6055311560630798),\n",
              " ('bar', 0.5949001312255859),\n",
              " ('ak', 0.587770938873291),\n",
              " ('e', 0.5857042670249939)]"
            ]
          },
          "metadata": {
            "tags": []
          },
          "execution_count": 11
        }
      ]
    },
    {
      "cell_type": "code",
      "metadata": {
        "id": "K4rA1bDrNI5-",
        "colab_type": "code",
        "outputId": "982c8998-bddb-4ce7-86ff-c442d999ad71",
        "colab": {
          "base_uri": "https://localhost:8080/",
          "height": 255
        }
      },
      "source": [
        "w2v.most_similar('history')"
      ],
      "execution_count": 0,
      "outputs": [
        {
          "output_type": "stream",
          "text": [
            "/usr/local/lib/python3.6/dist-packages/ipykernel_launcher.py:1: DeprecationWarning: Call to deprecated `most_similar` (Method will be removed in 4.0.0, use self.wv.most_similar() instead).\n",
            "  \"\"\"Entry point for launching an IPython kernel.\n",
            "/usr/local/lib/python3.6/dist-packages/gensim/matutils.py:737: FutureWarning: Conversion of the second argument of issubdtype from `int` to `np.signedinteger` is deprecated. In future, it will be treated as `np.int64 == np.dtype(int).type`.\n",
            "  if np.issubdtype(vec.dtype, np.int):\n"
          ],
          "name": "stderr"
        },
        {
          "output_type": "execute_result",
          "data": {
            "text/plain": [
              "[('civilization', 0.8396412134170532),\n",
              " ('historical', 0.8280161619186401),\n",
              " ('science', 0.8156287670135498),\n",
              " ('wittfogel', 0.8107545375823975),\n",
              " ('origins', 0.8093318343162537),\n",
              " ('religion', 0.8037346601486206),\n",
              " ('theory', 0.8030173778533936),\n",
              " ('historiography', 0.7978354692459106),\n",
              " ('literature', 0.7936256527900696),\n",
              " ('world', 0.7932981252670288)]"
            ]
          },
          "metadata": {
            "tags": []
          },
          "execution_count": 12
        }
      ]
    },
    {
      "cell_type": "code",
      "metadata": {
        "id": "gkngT5p4ONAc",
        "colab_type": "code",
        "outputId": "dc3ddb4a-d95e-418e-9ee8-397720c4a496",
        "colab": {
          "base_uri": "https://localhost:8080/",
          "height": 255
        }
      },
      "source": [
        "w2v.most_similar('geschichte')"
      ],
      "execution_count": 0,
      "outputs": [
        {
          "output_type": "stream",
          "text": [
            "/usr/local/lib/python3.6/dist-packages/ipykernel_launcher.py:1: DeprecationWarning: Call to deprecated `most_similar` (Method will be removed in 4.0.0, use self.wv.most_similar() instead).\n",
            "  \"\"\"Entry point for launching an IPython kernel.\n",
            "/usr/local/lib/python3.6/dist-packages/gensim/matutils.py:737: FutureWarning: Conversion of the second argument of issubdtype from `int` to `np.signedinteger` is deprecated. In future, it will be treated as `np.int64 == np.dtype(int).type`.\n",
            "  if np.issubdtype(vec.dtype, np.int):\n"
          ],
          "name": "stderr"
        },
        {
          "output_type": "execute_result",
          "data": {
            "text/plain": [
              "[('untersuchungen', 0.9163354635238647),\n",
              " ('wien', 0.9161162376403809),\n",
              " ('alten', 0.9124737977981567),\n",
              " ('mesopotamien', 0.9096227884292603),\n",
              " ('kunst', 0.9093112945556641),\n",
              " ('archdologie', 0.9084532856941223),\n",
              " ('lexikon', 0.9080384969711304),\n",
              " ('hethitischen', 0.9079078435897827),\n",
              " ('darmstadt', 0.9057190418243408),\n",
              " ('welt', 0.9047058820724487)]"
            ]
          },
          "metadata": {
            "tags": []
          },
          "execution_count": 13
        }
      ]
    },
    {
      "cell_type": "code",
      "metadata": {
        "id": "hge-fFedOW3h",
        "colab_type": "code",
        "outputId": "f6f5aa48-2245-4700-974d-906b4910453d",
        "colab": {
          "base_uri": "https://localhost:8080/",
          "height": 51
        }
      },
      "source": [
        "w2v.save('/content/drive/My Drive/Berkeley DH/AWCA/Collab_notebooks/fullword2vecmincount1.model')"
      ],
      "execution_count": 0,
      "outputs": [
        {
          "output_type": "stream",
          "text": [
            "/usr/local/lib/python3.6/dist-packages/smart_open/smart_open_lib.py:402: UserWarning: This function is deprecated, use smart_open.open instead. See the migration notes for details: https://github.com/RaRe-Technologies/smart_open/blob/master/README.rst#migrating-to-the-new-open-function\n",
            "  'See the migration notes for details: %s' % _MIGRATION_NOTES_URL\n"
          ],
          "name": "stderr"
        }
      ]
    },
    {
      "cell_type": "code",
      "metadata": {
        "id": "5d6-b1QUPasB",
        "colab_type": "code",
        "outputId": "a2d4224f-8cb2-4544-fbc9-805ce677adcd",
        "colab": {
          "base_uri": "https://localhost:8080/",
          "height": 51
        }
      },
      "source": [
        "model = Word2Vec.load(\"/content/drive/My Drive/Berkeley DH/AWCA/Collab_notebooks/fullword2vec.model\")"
      ],
      "execution_count": 0,
      "outputs": [
        {
          "output_type": "stream",
          "text": [
            "/usr/local/lib/python3.6/dist-packages/smart_open/smart_open_lib.py:402: UserWarning: This function is deprecated, use smart_open.open instead. See the migration notes for details: https://github.com/RaRe-Technologies/smart_open/blob/master/README.rst#migrating-to-the-new-open-function\n",
            "  'See the migration notes for details: %s' % _MIGRATION_NOTES_URL\n"
          ],
          "name": "stderr"
        }
      ]
    },
    {
      "cell_type": "code",
      "metadata": {
        "id": "SMfcjscjOi7F",
        "colab_type": "code",
        "outputId": "7d80495b-3594-4f82-df72-2967e622d9c0",
        "colab": {
          "base_uri": "https://localhost:8080/",
          "height": 255
        }
      },
      "source": [
        "model.most_similar('veenhof')"
      ],
      "execution_count": 0,
      "outputs": [
        {
          "output_type": "stream",
          "text": [
            "/usr/local/lib/python3.6/dist-packages/ipykernel_launcher.py:1: DeprecationWarning: Call to deprecated `most_similar` (Method will be removed in 4.0.0, use self.wv.most_similar() instead).\n",
            "  \"\"\"Entry point for launching an IPython kernel.\n",
            "/usr/local/lib/python3.6/dist-packages/gensim/matutils.py:737: FutureWarning: Conversion of the second argument of issubdtype from `int` to `np.signedinteger` is deprecated. In future, it will be treated as `np.int64 == np.dtype(int).type`.\n",
            "  if np.issubdtype(vec.dtype, np.int):\n"
          ],
          "name": "stderr"
        },
        {
          "output_type": "execute_result",
          "data": {
            "text/plain": [
              "[('dercksen', 0.880573034286499),\n",
              " ('larsen', 0.8629011511802673),\n",
              " ('oacc', 0.7739497423171997),\n",
              " ('donbaz', 0.7632951736450195),\n",
              " ('hecker', 0.7311949729919434),\n",
              " ('kryszat', 0.7221112251281738),\n",
              " ('garelli', 0.7153624892234802),\n",
              " ('michel', 0.699799120426178),\n",
              " ('balkan', 0.6790772676467896),\n",
              " ('yenetimi', 0.6729897856712341)]"
            ]
          },
          "metadata": {
            "tags": []
          },
          "execution_count": 19
        }
      ]
    },
    {
      "cell_type": "code",
      "metadata": {
        "id": "u4669hmeOtMq",
        "colab_type": "code",
        "outputId": "7afdf2a7-bef8-4631-dee1-eff6768beaad",
        "colab": {
          "base_uri": "https://localhost:8080/",
          "height": 255
        }
      },
      "source": [
        "model.most_similar('landsberger')"
      ],
      "execution_count": 0,
      "outputs": [
        {
          "output_type": "stream",
          "text": [
            "/usr/local/lib/python3.6/dist-packages/ipykernel_launcher.py:1: DeprecationWarning: Call to deprecated `most_similar` (Method will be removed in 4.0.0, use self.wv.most_similar() instead).\n",
            "  \"\"\"Entry point for launching an IPython kernel.\n",
            "/usr/local/lib/python3.6/dist-packages/gensim/matutils.py:737: FutureWarning: Conversion of the second argument of issubdtype from `int` to `np.signedinteger` is deprecated. In future, it will be treated as `np.int64 == np.dtype(int).type`.\n",
            "  if np.issubdtype(vec.dtype, np.int):\n"
          ],
          "name": "stderr"
        },
        {
          "output_type": "execute_result",
          "data": {
            "text/plain": [
              "[('kraus', 0.7886695861816406),\n",
              " ('giiterbock', 0.764764130115509),\n",
              " ('forrer', 0.7578856945037842),\n",
              " ('lewy', 0.7471722364425659),\n",
              " ('ungnad', 0.742644190788269),\n",
              " ('balkan', 0.7424110174179077),\n",
              " ('koschaker', 0.7264268398284912),\n",
              " ('poebel', 0.7229613065719604),\n",
              " ('hirsch', 0.6982314586639404),\n",
              " ('oppenheim', 0.6917952299118042)]"
            ]
          },
          "metadata": {
            "tags": []
          },
          "execution_count": 20
        }
      ]
    },
    {
      "cell_type": "code",
      "metadata": {
        "id": "HGkN-rZQO5Lt",
        "colab_type": "code",
        "outputId": "539e8487-55a6-4849-f948-1462f4894f88",
        "colab": {
          "base_uri": "https://localhost:8080/",
          "height": 255
        }
      },
      "source": [
        "model.most_similar('abb')"
      ],
      "execution_count": 0,
      "outputs": [
        {
          "output_type": "stream",
          "text": [
            "/usr/local/lib/python3.6/dist-packages/ipykernel_launcher.py:1: DeprecationWarning: Call to deprecated `most_similar` (Method will be removed in 4.0.0, use self.wv.most_similar() instead).\n",
            "  \"\"\"Entry point for launching an IPython kernel.\n",
            "/usr/local/lib/python3.6/dist-packages/gensim/matutils.py:737: FutureWarning: Conversion of the second argument of issubdtype from `int` to `np.signedinteger` is deprecated. In future, it will be treated as `np.int64 == np.dtype(int).type`.\n",
            "  if np.issubdtype(vec.dtype, np.int):\n"
          ],
          "name": "stderr"
        },
        {
          "output_type": "execute_result",
          "data": {
            "text/plain": [
              "[('taf', 0.7065073251724243),\n",
              " ('nr', 0.666862964630127),\n",
              " ('tf', 0.6646314859390259),\n",
              " ('siegel', 0.661652684211731),\n",
              " ('chetiter', 0.6387606859207153),\n",
              " ('umzeichnung', 0.6384928226470947),\n",
              " ('xxvii', 0.6343944072723389),\n",
              " ('band', 0.6341820955276489),\n",
              " ('bm', 0.633516252040863),\n",
              " ('marv', 0.629673957824707)]"
            ]
          },
          "metadata": {
            "tags": []
          },
          "execution_count": 22
        }
      ]
    },
    {
      "cell_type": "code",
      "metadata": {
        "id": "sEuZh_ABRSjR",
        "colab_type": "code",
        "outputId": "f0313a86-7c02-4d01-a1c8-8fa69ebe4974",
        "colab": {
          "base_uri": "https://localhost:8080/",
          "height": 255
        }
      },
      "source": [
        "model.most_similar('istar')"
      ],
      "execution_count": 0,
      "outputs": [
        {
          "output_type": "stream",
          "text": [
            "/usr/local/lib/python3.6/dist-packages/ipykernel_launcher.py:1: DeprecationWarning: Call to deprecated `most_similar` (Method will be removed in 4.0.0, use self.wv.most_similar() instead).\n",
            "  \"\"\"Entry point for launching an IPython kernel.\n",
            "/usr/local/lib/python3.6/dist-packages/gensim/matutils.py:737: FutureWarning: Conversion of the second argument of issubdtype from `int` to `np.signedinteger` is deprecated. In future, it will be treated as `np.int64 == np.dtype(int).type`.\n",
            "  if np.issubdtype(vec.dtype, np.int):\n"
          ],
          "name": "stderr"
        },
        {
          "output_type": "execute_result",
          "data": {
            "text/plain": [
              "[('tar', 0.8460395336151123),\n",
              " ('belum', 0.8322064280509949),\n",
              " ('suen', 0.7890267372131348),\n",
              " ('abum', 0.7825851440429688),\n",
              " ('hubur', 0.7690476179122925),\n",
              " ('ili', 0.767443060874939),\n",
              " ('alahum', 0.7595820426940918),\n",
              " ('laban', 0.748563289642334),\n",
              " ('aggur', 0.7438355088233948),\n",
              " ('agsur', 0.7432774305343628)]"
            ]
          },
          "metadata": {
            "tags": []
          },
          "execution_count": 24
        }
      ]
    },
    {
      "cell_type": "code",
      "metadata": {
        "id": "EWVhd1olRwpe",
        "colab_type": "code",
        "outputId": "b8c1a7ad-8155-4756-fe96-382c2c94753a",
        "colab": {
          "base_uri": "https://localhost:8080/",
          "height": 255
        }
      },
      "source": [
        "model.most_similar('temple')"
      ],
      "execution_count": 0,
      "outputs": [
        {
          "output_type": "stream",
          "text": [
            "/usr/local/lib/python3.6/dist-packages/ipykernel_launcher.py:1: DeprecationWarning: Call to deprecated `most_similar` (Method will be removed in 4.0.0, use self.wv.most_similar() instead).\n",
            "  \"\"\"Entry point for launching an IPython kernel.\n",
            "/usr/local/lib/python3.6/dist-packages/gensim/matutils.py:737: FutureWarning: Conversion of the second argument of issubdtype from `int` to `np.signedinteger` is deprecated. In future, it will be treated as `np.int64 == np.dtype(int).type`.\n",
            "  if np.issubdtype(vec.dtype, np.int):\n"
          ],
          "name": "stderr"
        },
        {
          "output_type": "execute_result",
          "data": {
            "text/plain": [
              "[('palace', 0.7568727135658264),\n",
              " ('eanna', 0.7522234916687012),\n",
              " ('cult', 0.7501311898231506),\n",
              " ('sanctuary', 0.7359373569488525),\n",
              " ('temples', 0.7293845415115356),\n",
              " ('royal', 0.7171753644943237),\n",
              " ('treasury', 0.6989771127700806),\n",
              " ('precinct', 0.6984622478485107),\n",
              " ('governor', 0.6639423966407776),\n",
              " ('shrine', 0.6605522036552429)]"
            ]
          },
          "metadata": {
            "tags": []
          },
          "execution_count": 25
        }
      ]
    },
    {
      "cell_type": "code",
      "metadata": {
        "id": "EI9PUbSYPwFV",
        "colab_type": "code",
        "outputId": "a1e85712-7798-4b73-aeff-fecf56fd8114",
        "colab": {
          "base_uri": "https://localhost:8080/",
          "height": 34
        }
      },
      "source": [
        "len(model.wv.vocab)"
      ],
      "execution_count": 0,
      "outputs": [
        {
          "output_type": "execute_result",
          "data": {
            "text/plain": [
              "134263"
            ]
          },
          "metadata": {
            "tags": []
          },
          "execution_count": 26
        }
      ]
    },
    {
      "cell_type": "code",
      "metadata": {
        "id": "UNjRjIl6SS7I",
        "colab_type": "code",
        "outputId": "66a925f5-c50b-47ab-df3e-9568bf7b1a88",
        "colab": {
          "base_uri": "https://localhost:8080/",
          "height": 255
        }
      },
      "source": [
        "model.most_similar('kanesh')"
      ],
      "execution_count": 0,
      "outputs": [
        {
          "output_type": "stream",
          "text": [
            "/usr/local/lib/python3.6/dist-packages/ipykernel_launcher.py:1: DeprecationWarning: Call to deprecated `most_similar` (Method will be removed in 4.0.0, use self.wv.most_similar() instead).\n",
            "  \"\"\"Entry point for launching an IPython kernel.\n",
            "/usr/local/lib/python3.6/dist-packages/gensim/matutils.py:737: FutureWarning: Conversion of the second argument of issubdtype from `int` to `np.signedinteger` is deprecated. In future, it will be treated as `np.int64 == np.dtype(int).type`.\n",
            "  if np.issubdtype(vec.dtype, np.int):\n"
          ],
          "name": "stderr"
        },
        {
          "output_type": "execute_result",
          "data": {
            "text/plain": [
              "[('kanish', 0.8662407398223877),\n",
              " ('kanes', 0.8548687100410461),\n",
              " ('kanis', 0.8367563486099243),\n",
              " ('kani', 0.8036369681358337),\n",
              " ('kane', 0.7965807914733887),\n",
              " ('colony', 0.7682368755340576),\n",
              " ('kiirum', 0.7523856163024902),\n",
              " ('amkuwa', 0.7286161780357361),\n",
              " ('kaneg', 0.7251302599906921),\n",
              " ('kdrum', 0.717052698135376)]"
            ]
          },
          "metadata": {
            "tags": []
          },
          "execution_count": 27
        }
      ]
    },
    {
      "cell_type": "code",
      "metadata": {
        "id": "k9x9-bZ4Sa4I",
        "colab_type": "code",
        "outputId": "c1e79273-9514-4a6e-8979-322adcd13923",
        "colab": {
          "base_uri": "https://localhost:8080/",
          "height": 102
        }
      },
      "source": [
        "model.similarity('temple', 'ishtar')"
      ],
      "execution_count": 0,
      "outputs": [
        {
          "output_type": "stream",
          "text": [
            "/usr/local/lib/python3.6/dist-packages/ipykernel_launcher.py:1: DeprecationWarning: Call to deprecated `similarity` (Method will be removed in 4.0.0, use self.wv.similarity() instead).\n",
            "  \"\"\"Entry point for launching an IPython kernel.\n",
            "/usr/local/lib/python3.6/dist-packages/gensim/matutils.py:737: FutureWarning: Conversion of the second argument of issubdtype from `int` to `np.signedinteger` is deprecated. In future, it will be treated as `np.int64 == np.dtype(int).type`.\n",
            "  if np.issubdtype(vec.dtype, np.int):\n"
          ],
          "name": "stderr"
        },
        {
          "output_type": "execute_result",
          "data": {
            "text/plain": [
              "0.611998"
            ]
          },
          "metadata": {
            "tags": []
          },
          "execution_count": 28
        }
      ]
    },
    {
      "cell_type": "code",
      "metadata": {
        "id": "eKj4VxacSkCG",
        "colab_type": "code",
        "colab": {}
      },
      "source": [
        "from sklearn.decomposition import PCA"
      ],
      "execution_count": 0,
      "outputs": []
    },
    {
      "cell_type": "code",
      "metadata": {
        "id": "PUxc3lL2S1iu",
        "colab_type": "code",
        "outputId": "84846dd7-c9a7-43ac-c9df-911d9bcf9740",
        "colab": {
          "base_uri": "https://localhost:8080/",
          "height": 51
        }
      },
      "source": [
        "words = []\n",
        "vectors = []\n",
        "for elem in model.wv.vocab:\n",
        "  words.append(elem)\n",
        "  vectors.append(model[elem])"
      ],
      "execution_count": 0,
      "outputs": [
        {
          "output_type": "stream",
          "text": [
            "/usr/local/lib/python3.6/dist-packages/ipykernel_launcher.py:5: DeprecationWarning: Call to deprecated `__getitem__` (Method will be removed in 4.0.0, use self.wv.__getitem__() instead).\n",
            "  \"\"\"\n"
          ],
          "name": "stderr"
        }
      ]
    },
    {
      "cell_type": "code",
      "metadata": {
        "id": "D-WnMIf2S6gq",
        "colab_type": "code",
        "outputId": "79a027f0-f571-45e5-e01b-86000fa46bb4",
        "colab": {
          "base_uri": "https://localhost:8080/",
          "height": 1000
        }
      },
      "source": [
        "print(words[0:10])\n",
        "print(vectors[0:10])"
      ],
      "execution_count": 0,
      "outputs": [
        {
          "output_type": "stream",
          "text": [
            "['aula', 'orientalis', 'issn', 'recensiones', 'harry', 'hoffner', 'jr', 'craig', 'melchert', 'grammar']\n",
            "[array([-1.2824947 ,  0.10630114,  0.5895561 ,  0.18818268,  0.34205   ,\n",
            "        0.0218786 , -0.39656606, -0.88327837, -0.04186372,  0.3536743 ,\n",
            "       -0.23233694, -0.2811517 ,  0.0259926 ,  0.41969615,  0.2227518 ,\n",
            "        0.31366777, -0.74524987,  0.471668  ,  0.15198739,  0.90889585,\n",
            "       -0.55077785, -0.256285  , -0.22942027,  0.421746  , -0.76475924,\n",
            "       -0.43233898, -0.7455095 , -0.11696601,  0.07270794, -1.0193254 ,\n",
            "       -0.4686109 , -0.72416705,  0.12055095, -0.20626695, -0.01657597,\n",
            "        0.24407375,  0.00978949,  0.0269772 , -0.45430213, -0.63531   ,\n",
            "        0.37172043,  0.5421892 , -0.08903253,  0.5786251 ,  0.38488576,\n",
            "        0.10731885,  0.38706526, -0.00197251,  0.28498733, -0.4734481 ,\n",
            "        0.36782122, -0.3916532 ,  0.18030886,  0.7218816 ,  0.4636435 ,\n",
            "       -0.25331825,  0.03485372,  0.6662786 , -0.2016091 , -0.48338255,\n",
            "        0.3502724 , -0.19825652,  0.01653514,  0.16148688, -0.6761345 ,\n",
            "        0.34494287,  0.50411826,  0.43481076, -0.07963026,  0.9782722 ,\n",
            "        0.36944613,  0.22041818, -0.33498755,  0.14609283, -0.6422757 ,\n",
            "        0.35934687, -0.33172065,  0.03671304, -0.6084818 ,  0.32332894,\n",
            "        0.1560488 , -0.04737339, -0.3792549 ,  0.1362381 ,  0.3521246 ,\n",
            "       -0.45209366, -0.43307754, -0.5510922 , -0.43791017, -0.01450696,\n",
            "       -0.38330203,  0.63266826, -0.0938205 , -0.12351339, -0.05777297,\n",
            "        0.6418022 ,  0.57452834, -0.16016613,  0.5617409 , -0.1304072 ],\n",
            "      dtype=float32), array([-1.8224192e+00,  4.8360559e-01,  7.6477504e-01,  6.0805941e-01,\n",
            "        9.3240196e-01,  7.0442786e-03,  1.2973763e-01, -2.2937756e+00,\n",
            "        4.3001229e-01,  8.2292601e-02, -3.1158522e-01, -7.7770054e-01,\n",
            "       -4.8802093e-01,  6.3841587e-01,  5.4976237e-01,  6.3871515e-01,\n",
            "       -1.5316515e+00,  6.3555890e-01, -1.7252392e-01,  1.2451892e+00,\n",
            "       -7.3048061e-01, -9.9838495e-01, -8.7196231e-01,  5.2578080e-01,\n",
            "       -1.4475168e+00, -6.8572301e-01, -1.3431842e+00, -2.4291153e-01,\n",
            "        1.7836346e-01, -2.0270452e+00, -6.0886419e-01, -1.1584878e+00,\n",
            "       -3.5152741e-02, -4.9243408e-01, -2.3537740e-01,  4.1750640e-02,\n",
            "        1.7034444e-01, -2.4013582e-01,  1.8861024e-01, -1.3193617e+00,\n",
            "        1.0157621e+00,  1.3701068e+00, -2.3463647e-01,  9.6057177e-01,\n",
            "        5.4631197e-01, -3.4686232e-01,  1.3113823e+00,  4.8142922e-01,\n",
            "        2.8257507e-01, -4.4464752e-01,  1.2171010e+00, -3.8078350e-01,\n",
            "        6.6946641e-02,  9.3447143e-01,  4.8128968e-01, -2.6003513e-01,\n",
            "       -2.6522404e-01,  1.2518892e+00, -4.9582788e-01, -1.1462572e+00,\n",
            "        8.1936753e-01, -5.8872449e-01, -8.2003847e-02,  4.2333394e-01,\n",
            "       -1.3611388e+00,  9.4042724e-01,  1.4327521e+00,  8.2902098e-01,\n",
            "       -7.9419649e-01,  1.1353220e+00,  1.3553400e+00,  4.4940718e-02,\n",
            "       -7.4978220e-01,  1.3878211e-01, -2.3599582e+00,  1.0686558e+00,\n",
            "       -6.9522417e-01, -2.3965281e-02, -1.3645777e+00,  3.1652299e-01,\n",
            "        1.8812160e-01, -2.0294970e-01, -8.9831197e-01,  5.5173635e-01,\n",
            "        5.2389932e-01, -5.7409209e-01, -6.6944236e-01, -7.4163705e-01,\n",
            "       -4.0110740e-01, -1.9251700e-01, -7.4357218e-01,  1.5268456e+00,\n",
            "       -3.4326711e-01, -3.0306196e-01,  2.8652704e-01,  7.1012938e-01,\n",
            "        1.6160870e+00, -4.9739162e-04,  1.1822388e+00, -6.6985410e-01],\n",
            "      dtype=float32), array([-0.6312722 ,  0.50763375,  1.0447423 ,  0.36487716,  0.45454526,\n",
            "       -0.5664581 , -0.07090186, -0.9381501 ,  0.41469818,  0.04380814,\n",
            "        0.18428065, -0.34749025, -0.13368082,  0.582734  ,  0.5452347 ,\n",
            "        0.76604205, -0.67032725,  0.19491822, -0.11320852,  0.7270157 ,\n",
            "       -0.1195244 , -0.28739518, -0.11568338,  0.3171814 , -0.6516006 ,\n",
            "       -0.17468375, -1.0197909 , -0.08965448, -0.3184743 , -1.0789026 ,\n",
            "       -0.9874436 , -0.65003616,  0.10616733, -0.4004331 ,  0.05417806,\n",
            "       -0.24729738,  0.5630984 , -0.5281929 , -0.46788427, -1.0512108 ,\n",
            "        0.8163847 ,  0.503016  , -0.19271153,  0.52305895,  0.70143026,\n",
            "       -0.06869482,  0.47809237,  0.11252594,  0.08925673, -0.38857472,\n",
            "        0.5479319 , -0.56840754,  0.11815371,  0.26152655,  0.26314875,\n",
            "       -0.4177538 , -0.15775318,  1.0578412 , -0.09832225, -0.03284557,\n",
            "        0.42144328, -0.2397277 ,  0.15387775,  0.46385467, -0.47788867,\n",
            "        0.57569456,  0.3994094 ,  0.38518274, -0.93489724,  0.7465837 ,\n",
            "        0.666185  , -0.4191342 , -0.45992735, -0.18649659, -0.7326444 ,\n",
            "        0.315474  , -0.622656  ,  0.064243  , -1.0175238 ,  0.16949147,\n",
            "       -0.27412772,  0.07875313, -0.25113726,  0.86186993,  0.5100017 ,\n",
            "       -0.30918193, -0.39134854, -0.0178378 , -0.19302443, -0.15737271,\n",
            "       -0.5072738 ,  0.3237358 , -0.5408364 , -0.497744  , -0.13734779,\n",
            "        0.17320274,  0.39749607, -0.35816133,  0.5649186 ,  0.17695038],\n",
            "      dtype=float32), array([-0.1582348 ,  0.0235167 ,  0.1302629 ,  0.08463883,  0.10771386,\n",
            "       -0.03919474, -0.0719678 , -0.13749695,  0.01281396,  0.0778493 ,\n",
            "        0.04957872, -0.03156668, -0.06970096,  0.10168182,  0.0742566 ,\n",
            "        0.12894048, -0.09716763,  0.07036096, -0.00715686,  0.22778402,\n",
            "       -0.10588315, -0.0361583 , -0.057252  ,  0.05725874, -0.20332228,\n",
            "        0.09563793, -0.16931026, -0.01811669,  0.02878584, -0.15474963,\n",
            "       -0.12142763, -0.14683938,  0.02036886, -0.07706808,  0.03043262,\n",
            "        0.02848085,  0.05745058, -0.08011432, -0.07885876, -0.06170128,\n",
            "        0.12299507,  0.10301342,  0.00158108,  0.10154421,  0.11673105,\n",
            "       -0.0218411 ,  0.08587729, -0.03536705, -0.03287097, -0.12228414,\n",
            "        0.04100774, -0.03635073,  0.04209939,  0.13962835,  0.08802116,\n",
            "       -0.10117053, -0.00747432,  0.14250655, -0.04263074,  0.04228754,\n",
            "        0.02723165, -0.06029999,  0.03076335,  0.05162126, -0.09918044,\n",
            "        0.119967  ,  0.1661123 ,  0.03589585, -0.03731203,  0.2105231 ,\n",
            "        0.02099599,  0.02808445, -0.03582942, -0.0091588 , -0.1980693 ,\n",
            "        0.0993559 , -0.07941064,  0.05093997, -0.17455387, -0.00631654,\n",
            "        0.03177035,  0.01349544,  0.02917238,  0.0738477 ,  0.11928691,\n",
            "       -0.06271082, -0.12170215, -0.05662303, -0.06034602, -0.00138235,\n",
            "       -0.06252636,  0.10388252, -0.07475621, -0.03596639,  0.02831474,\n",
            "        0.09684337,  0.12027169, -0.04140532,  0.10096332,  0.00418171],\n",
            "      dtype=float32), array([-1.07592   , -0.0239061 ,  0.56497765,  0.2108317 ,  0.37063426,\n",
            "        0.03775929,  0.70145994, -0.3645671 ,  0.46762142,  0.13209109,\n",
            "        0.35276702, -0.27211452, -0.3636768 ,  0.04422126,  0.5749992 ,\n",
            "        0.34239098, -0.24149211,  0.02602173,  0.28831524,  0.84797597,\n",
            "       -0.16173515, -0.28234133, -0.41590145, -0.08331284, -0.6859569 ,\n",
            "        0.28798595, -0.5442294 , -0.14698538,  0.03711186, -0.8342726 ,\n",
            "       -0.78646713, -0.43487263, -0.00538639, -0.10899698,  0.21612203,\n",
            "        0.05485379, -0.03685166, -0.23931633,  0.01700047, -0.43523502,\n",
            "        0.17928919,  0.12317058, -0.07575326,  0.37326726,  0.69924176,\n",
            "        0.26394874,  0.28183177,  0.0637254 , -0.18095669,  0.05665608,\n",
            "        0.07551265, -0.04612758,  0.57699734,  0.3015344 ,  0.5228749 ,\n",
            "        0.06799125, -0.01319961,  0.2356807 , -0.40652725,  0.1794305 ,\n",
            "        0.33473203, -0.5444615 ,  0.05005096,  0.53632206, -0.352238  ,\n",
            "        0.81437725,  0.404868  ,  0.22230564, -0.92107135,  0.53892845,\n",
            "        0.3686268 ,  0.10449784, -0.38353032, -0.3093566 , -0.40184727,\n",
            "        0.2442243 , -0.13065545,  0.07092151, -0.816122  , -0.07973988,\n",
            "       -0.8500851 ,  0.10217326,  0.23533499,  0.56044924,  0.75778854,\n",
            "       -0.3753315 , -0.26712966,  0.2998878 , -0.1846171 ,  0.10431157,\n",
            "       -0.33081928,  0.24633676, -0.2773347 , -0.3543203 , -0.11922178,\n",
            "        0.23166838,  0.36496145, -0.07612652,  0.10566137, -0.04794432],\n",
            "      dtype=float32), array([-2.04392791e+00, -1.98857635e-01,  2.71071255e-01,  7.44242847e-01,\n",
            "        9.21594501e-02,  2.56745249e-01,  1.26214492e+00, -1.40946579e+00,\n",
            "        5.64514220e-01,  1.99714661e-01,  2.18952417e-01, -3.80267590e-01,\n",
            "       -9.77689385e-01,  4.45025973e-02,  5.21812260e-01, -6.18830144e-01,\n",
            "       -7.37061918e-01,  7.54349306e-02,  8.97508934e-02,  1.30476213e+00,\n",
            "       -7.78509498e-01, -8.04825842e-01, -2.42216811e-01,  3.80090714e-01,\n",
            "       -1.90137684e+00, -5.12755871e-01, -9.62174177e-01,  5.97149074e-01,\n",
            "        5.70090532e-01, -1.30420220e+00, -7.39002526e-01, -9.64345753e-01,\n",
            "       -4.27248329e-01,  3.63362104e-01,  2.49792263e-01,  5.77991121e-02,\n",
            "       -5.57614625e-01,  2.80860722e-01, -2.19473749e-01, -4.65696335e-01,\n",
            "       -4.38182741e-01, -1.12690955e-01, -4.74130630e-01,  5.51504970e-01,\n",
            "        4.92442191e-01,  1.60562217e-01, -6.03203326e-02,  4.36449908e-02,\n",
            "       -4.98301834e-01,  4.93732877e-02,  2.03374788e-01, -1.08071756e+00,\n",
            "        1.01907134e+00,  4.31903124e-01,  1.07828593e+00, -2.56823182e-01,\n",
            "        2.19682977e-01, -5.44411778e-01, -9.05667722e-01, -8.20321500e-01,\n",
            "        7.68062055e-01, -1.30640709e+00, -1.63028389e-01,  8.48390043e-01,\n",
            "       -1.04770577e-03,  1.06452501e+00,  4.10629183e-01, -4.82316583e-01,\n",
            "       -1.14723158e+00,  8.86868715e-01,  1.07898688e+00, -3.97486329e-01,\n",
            "       -6.46766484e-01, -4.03355420e-01, -6.34693384e-01,  7.63758242e-01,\n",
            "        5.13789803e-02,  2.60380715e-01, -1.20917249e+00,  4.45214599e-01,\n",
            "       -1.11402857e+00, -7.45478570e-02,  2.53041536e-01,  7.65987277e-01,\n",
            "        1.59076583e+00, -3.94507527e-01, -3.70009512e-01,  2.17130095e-01,\n",
            "        1.00244246e-01,  4.80249017e-01, -5.98814011e-01,  8.88322890e-01,\n",
            "        8.03394854e-01, -3.66983682e-01, -1.25401199e-01,  1.14403099e-01,\n",
            "        9.47667241e-01, -7.84472376e-02,  2.17463896e-01, -6.31869197e-01],\n",
            "      dtype=float32), array([-1.5629082 ,  0.30040988,  0.46151856,  1.0203421 ,  0.05213829,\n",
            "       -0.07151109,  0.41193247, -0.23271929,  0.17558339,  0.3869518 ,\n",
            "       -0.2270375 , -0.26591617, -1.0364391 ,  0.29013693,  0.30989626,\n",
            "        0.2987893 , -1.3070174 , -0.17250125,  0.10865695,  0.864137  ,\n",
            "       -0.8605499 , -1.4241738 , -0.49444315,  0.3314504 , -1.0545272 ,\n",
            "        0.2766574 , -0.9824262 , -0.31008282,  0.5987659 , -1.3115282 ,\n",
            "       -1.1195428 , -0.445485  , -0.20559406, -0.18820515,  0.16431183,\n",
            "        0.19502474, -0.17898986, -0.2838604 ,  0.31300962, -0.3102868 ,\n",
            "        0.25072026,  0.1129757 , -0.22351752,  0.5840402 ,  0.6288107 ,\n",
            "       -0.12190233,  0.2477507 ,  0.380703  , -0.52184284,  0.08182467,\n",
            "        0.4307139 , -0.69615287,  0.87721837,  0.46574238,  0.5547196 ,\n",
            "       -0.71721673,  0.38736072,  0.15607302, -0.8654401 , -0.29558957,\n",
            "        0.60009986, -0.8696873 ,  0.10313337,  0.6479068 , -1.1017373 ,\n",
            "        0.9009653 ,  0.5631323 ,  0.6353253 , -1.4374119 ,  0.89768684,\n",
            "        0.6266857 , -0.293602  , -0.67223597,  0.3563727 , -1.031777  ,\n",
            "        1.092385  , -0.3125433 , -0.05377708, -1.3757534 ,  0.34499452,\n",
            "       -0.72966516,  0.21455638,  0.4052873 ,  0.6971049 ,  0.8560358 ,\n",
            "       -0.33001775, -0.45192322,  0.06734829, -0.14395544, -0.97520936,\n",
            "       -0.4572434 ,  1.221544  ,  0.14764257, -0.6959703 , -0.29429388,\n",
            "        0.5738062 ,  0.86469877, -0.20534283,  0.260738  , -0.27288264],\n",
            "      dtype=float32), array([-1.6754223 , -0.1268776 ,  0.6427928 ,  0.00488197, -0.43921143,\n",
            "        0.6040624 , -0.03620609, -0.65162987,  0.09036434,  0.48750803,\n",
            "        0.66004467, -0.11336447, -0.3902672 , -0.2211533 ,  0.79311955,\n",
            "       -0.20008843, -0.7944894 , -0.08065239,  0.51420164,  1.4320003 ,\n",
            "       -0.92059886, -0.9192104 , -0.7561646 ,  0.8589984 , -1.1311861 ,\n",
            "        0.3149997 , -1.4132313 , -0.16286989,  1.1893    , -1.4103911 ,\n",
            "       -1.1716162 , -0.6674958 , -0.20797087,  0.35890615,  0.57854486,\n",
            "        0.8136339 ,  0.07024028, -0.9526467 , -0.03765098, -0.56672686,\n",
            "       -0.5789091 , -1.0317153 , -0.5303253 ,  0.31663322,  0.9034099 ,\n",
            "        0.20760174,  0.32825607, -0.5675276 , -0.46558875, -0.14174104,\n",
            "        0.1123502 , -0.3783536 , -0.23994164, -0.33054578,  0.88060236,\n",
            "       -0.5973537 ,  0.3372043 , -0.24551077, -0.88356304, -0.11349036,\n",
            "        1.2497225 , -1.0363345 ,  0.748641  ,  1.132402  ,  0.53661406,\n",
            "        0.891541  ,  0.08810158,  0.03252701, -0.7412056 ,  1.1249112 ,\n",
            "        1.0252922 ,  0.17526549,  0.29194307, -0.452603  , -0.60572   ,\n",
            "       -0.27780205,  0.00197673, -0.3571404 , -0.32231635,  0.05834926,\n",
            "       -1.3255812 ,  0.31446564, -0.21775506,  0.51272815,  0.2081473 ,\n",
            "        0.14890255, -1.1165117 ,  1.1935595 ,  0.04950918,  0.33479315,\n",
            "       -0.04088293,  0.76522046,  0.28550765, -0.35595772, -0.3636412 ,\n",
            "        0.285316  ,  0.4321317 ,  0.38987204,  0.39585987, -0.6597428 ],\n",
            "      dtype=float32), array([-2.7618513 ,  0.01940588,  0.67567134,  0.15748079, -0.59867936,\n",
            "        1.2578105 ,  0.4137285 , -1.4644072 ,  1.5024835 ,  0.68934745,\n",
            "        1.4729517 , -0.74242693, -0.7769478 ,  0.06473014,  0.9804897 ,\n",
            "       -1.8419687 , -0.08496348, -0.03864634,  0.2663566 ,  1.0266715 ,\n",
            "       -0.7766479 , -1.255822  , -1.0717392 ,  1.5355208 , -1.4781034 ,\n",
            "       -1.0680411 , -1.7018154 ,  0.47400174,  1.4110665 , -2.349031  ,\n",
            "        0.06444958, -1.4219846 , -0.2698472 ,  1.2085057 , -0.16997157,\n",
            "        0.8770087 , -0.4888593 , -0.0416036 , -0.28310066, -0.26041275,\n",
            "       -1.3695347 , -1.9390817 , -0.45912978,  0.17004937,  0.7927145 ,\n",
            "        0.07954665,  0.16836119, -1.2565712 , -0.32691413, -0.10861753,\n",
            "       -0.21596937, -1.0602516 , -0.4924893 , -0.48383415,  1.6521828 ,\n",
            "       -0.30374396,  0.30422786, -1.1393999 , -2.4497845 , -0.44852725,\n",
            "        1.1412106 , -0.9751631 ,  0.613833  ,  1.27837   ,  0.73664886,\n",
            "        0.8777724 ,  0.2357142 , -0.7436961 , -0.96452534,  1.0307478 ,\n",
            "        1.589972  , -0.36073786, -0.00327794, -0.9406649 , -0.5090881 ,\n",
            "       -0.32511178,  0.3856509 , -0.28314105, -0.25691786, -0.00716909,\n",
            "       -1.7909551 ,  0.4721864 , -0.18056262,  0.33484668,  0.7761305 ,\n",
            "        0.16784331, -0.6562675 ,  1.464397  ,  0.02220614,  0.7869631 ,\n",
            "       -0.2537377 ,  0.80708057,  2.0258365 , -0.66996354,  0.21806058,\n",
            "       -0.21843432,  0.04635725,  1.0153369 ,  0.16614377, -1.7587527 ],\n",
            "      dtype=float32), array([-2.5275872 ,  0.10895018,  0.26435375,  0.2382857 , -0.27189246,\n",
            "        0.63719475,  0.04079353, -1.5819483 , -0.22014701, -0.18192849,\n",
            "       -0.12775359, -0.7001655 , -1.4395367 ,  0.86068803, -0.25760564,\n",
            "       -0.6887066 ,  0.06174413,  0.68261886, -0.58137685,  1.2641085 ,\n",
            "       -0.44009942, -0.7244048 , -0.45854324,  1.4859042 , -1.7336725 ,\n",
            "       -1.2880923 , -1.4773909 ,  1.3985083 ,  0.37411335, -0.7809755 ,\n",
            "       -0.9846197 , -0.7589082 , -0.69910777,  0.69231856, -0.49395955,\n",
            "        1.0851629 , -0.86815464,  0.15436116, -0.20404524, -1.6798061 ,\n",
            "       -0.43008792, -1.5970393 , -0.93370324,  0.8331664 , -0.0583866 ,\n",
            "        0.2083098 ,  0.3177661 , -0.7901471 , -0.24524698, -0.49116537,\n",
            "       -0.3681504 , -1.148165  ,  0.942035  , -0.08671563,  0.93576646,\n",
            "       -0.69542295,  0.2890247 , -0.533545  , -1.2065467 , -0.5521189 ,\n",
            "        0.8153475 , -1.2704802 ,  0.58824396,  0.75033385,  0.31503248,\n",
            "        1.818288  ,  1.4762416 , -1.1396006 , -0.8426811 ,  1.2985463 ,\n",
            "        1.2491258 ,  0.3086575 ,  0.35879716, -0.72526085, -0.73820394,\n",
            "        0.98401666,  0.7772579 ,  0.4088281 ,  0.35400563,  1.3286339 ,\n",
            "       -1.8920968 , -0.2111375 ,  0.12928313,  1.1244254 ,  0.40485552,\n",
            "        0.39663872, -0.71571505,  0.16718611,  0.04491131,  0.3856364 ,\n",
            "       -0.46209112,  0.50261855,  1.3373096 ,  1.3681525 , -0.61500084,\n",
            "        0.10213486,  0.95586133,  0.48528925,  0.55615276, -1.1353339 ],\n",
            "      dtype=float32)]\n"
          ],
          "name": "stdout"
        }
      ]
    },
    {
      "cell_type": "code",
      "metadata": {
        "id": "BZKs3gBDUaiH",
        "colab_type": "code",
        "colab": {}
      },
      "source": [
        "import numpy as np\n",
        "import matplotlib.pyplot as plt\n",
        "vectors = np.array(vectors)"
      ],
      "execution_count": 0,
      "outputs": []
    },
    {
      "cell_type": "code",
      "metadata": {
        "id": "nb5gaNQnVGAZ",
        "colab_type": "code",
        "colab": {}
      },
      "source": [
        "pca = PCA(n_components=2)"
      ],
      "execution_count": 0,
      "outputs": []
    },
    {
      "cell_type": "code",
      "metadata": {
        "id": "NswQk5B7V6s9",
        "colab_type": "code",
        "colab": {}
      },
      "source": [
        "two_best = pca.fit(vectors).transform(vectors)"
      ],
      "execution_count": 0,
      "outputs": []
    },
    {
      "cell_type": "code",
      "metadata": {
        "id": "iWMVZrZXWAbu",
        "colab_type": "code",
        "colab": {}
      },
      "source": [
        "sample_words = []\n",
        "sample_best = []\n",
        "for i in range(len(words)):\n",
        "  if random.uniform(0, 1) > 0.999:\n",
        "    sample_words.append(words[i])\n",
        "    sample_best.append(two_best[i])\n"
      ],
      "execution_count": 0,
      "outputs": []
    },
    {
      "cell_type": "code",
      "metadata": {
        "id": "IB653bapdwW9",
        "colab_type": "code",
        "colab": {}
      },
      "source": [
        "sample_best = np.array(sample_best)"
      ],
      "execution_count": 0,
      "outputs": []
    },
    {
      "cell_type": "code",
      "metadata": {
        "id": "Hfw8InkVb7u2",
        "colab_type": "code",
        "outputId": "0d19964d-945d-4e1f-fdc1-e1b9cd28f908",
        "colab": {
          "base_uri": "https://localhost:8080/",
          "height": 285
        }
      },
      "source": [
        "fig, ax = plt.subplots()\n",
        "ax.scatter(sample_best[:, 0], sample_best[:, 1])\n",
        "fig.figsize = (10, 10)\n",
        "\n",
        "for i, txt in enumerate(sample_words):\n",
        "    ax.annotate(txt, (sample_best[i, 0], sample_best[i, 1]))\n",
        "plt.figure(figsize=(20,10))\n",
        "plt.show()"
      ],
      "execution_count": 0,
      "outputs": [
        {
          "output_type": "display_data",
          "data": {
            "image/png": "[encoded data removed]",
            "text/plain": [
              "<Figure size 432x288 with 1 Axes>"
            ]
          },
          "metadata": {
            "tags": []
          }
        },
        {
          "output_type": "display_data",
          "data": {
            "text/plain": [
              "<Figure size 1440x720 with 0 Axes>"
            ]
          },
          "metadata": {
            "tags": []
          }
        }
      ]
    },
    {
      "cell_type": "code",
      "metadata": {
        "id": "TLyIa6EfeU8Q",
        "colab_type": "code",
        "colab": {}
      },
      "source": [
        ""
      ],
      "execution_count": 0,
      "outputs": []
    }
  ]
}